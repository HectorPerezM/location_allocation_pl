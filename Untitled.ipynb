{
 "cells": [
  {
   "cell_type": "code",
   "execution_count": 32,
   "metadata": {},
   "outputs": [],
   "source": [
    "matriz_distancia = [[0,10,16,10,12,16],\n",
    "                    [10,0,6,7,16,13],\n",
    "                    [16,6,0,7,16,9],\n",
    "                    [10,7,7,0,9,6],\n",
    "                    [12,16,16,9,0,9],\n",
    "                    [16,13,9,6,9,0]]\n",
    "\n",
    "demanda = [7,5,3,4,5,10]\n",
    "\n",
    "solucion = [0,0,1,1,0,0]"
   ]
  },
  {
   "cell_type": "code",
   "execution_count": 59,
   "metadata": {},
   "outputs": [],
   "source": [
    "def print_matrix(m):\n",
    "    l = len(m)\n",
    "    for i in range(l):\n",
    "        s = \"\"\n",
    "        for j in range(l):\n",
    "            s += str(m[i][j]) + \" \"\n",
    "        print(s)\n",
    "        \n",
    "def influence_matrix(solution, distance):\n",
    "    m = len(solution)\n",
    "    matrix = []\n",
    "    \n",
    "    for i in range(m):\n",
    "        min_value = max(distance[i])\n",
    "        min_index = 0\n",
    "        row = [0] * m\n",
    "        for j in range(m):\n",
    "            if solution[j] == 1:\n",
    "                if distance[i][j] <= min_value:\n",
    "                    min_value = distance[i][j]\n",
    "                    min_index = j\n",
    "            \n",
    "        row[min_index] = 1\n",
    "                \n",
    "        matrix.append(row)\n",
    "    \n",
    "    print_matrix(matrix)\n",
    "    return matrix\n",
    "\n",
    "\n",
    "def area_matrix():\n",
    "\n",
    "\n",
    "def fo(im, distance, demand):\n",
    "    m = len(distance)\n",
    "    total = 0\n",
    "    for i in range(m):\n",
    "        index = im[i].index(max(im[i]))\n",
    "        total += demand[i] * distance[i][index]\n",
    "    \n",
    "    print(total)"
   ]
  },
  {
   "cell_type": "code",
   "execution_count": 60,
   "metadata": {},
   "outputs": [
    {
     "name": "stdout",
     "output_type": "stream",
     "text": [
      "0 0 0 1 0 0 \n",
      "0 0 1 0 0 0 \n",
      "0 0 1 0 0 0 \n",
      "0 0 0 1 0 0 \n",
      "0 0 0 1 0 0 \n",
      "0 0 0 1 0 0 \n",
      "205\n"
     ]
    }
   ],
   "source": [
    "im = influence_matrix(solucion, matriz_distancia)\n",
    "\n",
    "fo(im, matriz_distancia, demanda)\n"
   ]
  },
  {
   "cell_type": "code",
   "execution_count": null,
   "metadata": {},
   "outputs": [],
   "source": []
  }
 ],
 "metadata": {
  "kernelspec": {
   "display_name": "Python 3",
   "language": "python",
   "name": "python3"
  },
  "language_info": {
   "codemirror_mode": {
    "name": "ipython",
    "version": 3
   },
   "file_extension": ".py",
   "mimetype": "text/x-python",
   "name": "python",
   "nbconvert_exporter": "python",
   "pygments_lexer": "ipython3",
   "version": "3.8.2"
  }
 },
 "nbformat": 4,
 "nbformat_minor": 4
}
