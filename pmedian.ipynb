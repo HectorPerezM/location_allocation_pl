{
 "cells": [
  {
   "cell_type": "markdown",
   "metadata": {},
   "source": [
    "# P-Median"
   ]
  },
  {
   "cell_type": "markdown",
   "metadata": {},
   "source": [
    "Explicar aqui un poco el contexto de p-median y quizas pegar su formula"
   ]
  },
  {
   "cell_type": "markdown",
   "metadata": {},
   "source": [
    "### 1. Libraries"
   ]
  },
  {
   "cell_type": "code",
   "execution_count": 1,
   "metadata": {},
   "outputs": [],
   "source": [
    "import numpy as np"
   ]
  },
  {
   "cell_type": "markdown",
   "metadata": {},
   "source": [
    "### 2. Configure project\n",
    "\n",
    "Explicar como se configura\n"
   ]
  },
  {
   "cell_type": "code",
   "execution_count": 2,
   "metadata": {},
   "outputs": [],
   "source": [
    "config = {\n",
    "    \"distance_data_path\": \"data/test/distance.txt\",\n",
    "    \"demand_data_path\": \"data/test/demand.txt\",\n",
    "    \"dimensions\": 6,\n",
    "    \"type_initial_solution\": \"random\"\n",
    "}"
   ]
  },
  {
   "cell_type": "markdown",
   "metadata": {},
   "source": [
    "### 3. Open data file"
   ]
  },
  {
   "cell_type": "code",
   "execution_count": 3,
   "metadata": {},
   "outputs": [],
   "source": [
    "def readORLibDataFile(data_path = \"\"):\n",
    "    if data_path == \"\":\n",
    "        print(\"Empty data path, change it in config step.\")\n",
    "        return []\n",
    "    \n",
    "    data = []\n",
    "    raw_data = open(data_path, \"r\")\n",
    "    for line in raw_data:\n",
    "        line = line.strip().split(\" \")\n",
    "        line = list(map(int, line))\n",
    "        data.append(line)\n",
    "        \n",
    "    return data\n",
    "\n",
    "def readTestDataFile(data_path = \"\", dim = 0):\n",
    "    if data_path == \"\":\n",
    "        print(\"Empty data path, change it in config step.\")\n",
    "        return []\n",
    "    \n",
    "    if dim <= 0:\n",
    "        print(\"Dimensions are wrong.\")\n",
    "        return []\n",
    "    \n",
    "    data = []\n",
    "    \n",
    "    raw_data = open(data_path, \"r\")\n",
    "    for line in raw_data:\n",
    "        line = line.strip().split(\",\")\n",
    "        line = list(map(int, line))\n",
    "        data.append(line)\n",
    "        \n",
    "    return data\n",
    "\n",
    "def print_matrix(m):\n",
    "    l = len(m)\n",
    "    for i in range(l):\n",
    "        s = \"\"\n",
    "        for j in range(l):\n",
    "            s += str(m[i][j]) + \" \"\n",
    "        print(s)"
   ]
  },
  {
   "cell_type": "code",
   "execution_count": 4,
   "metadata": {},
   "outputs": [],
   "source": [
    "distance = readTestDataFile(config[\"distance_data_path\"], config[\"dimensions\"])\n",
    "#demand = readTestDataFile(config[\"demand_data_path\"], config[\"dimensions\"])"
   ]
  },
  {
   "cell_type": "markdown",
   "metadata": {},
   "source": [
    "### 4. Initial Solutions"
   ]
  },
  {
   "cell_type": "code",
   "execution_count": 5,
   "metadata": {},
   "outputs": [],
   "source": [
    "def randomInitialSolution(p, size):\n",
    "    x = np.zeros(size, dtype=int)\n",
    "    x[:p] = 1\n",
    "    np.random.shuffle(x)\n",
    "    return x"
   ]
  },
  {
   "cell_type": "markdown",
   "metadata": {},
   "source": [
    "### 4. P-Median Objective Function"
   ]
  },
  {
   "cell_type": "code",
   "execution_count": 34,
   "metadata": {},
   "outputs": [],
   "source": [
    "def selectFacility(facility, n, solution, distance):\n",
    "    #Determinados la mayor distancia de la fila\n",
    "    min_value = max(distance[facility])\n",
    "    min_index = 0\n",
    "    \n",
    "    for i in range(n):\n",
    "        if solution[i] == 1:\n",
    "            if distance[facility][i] < min_value:\n",
    "                min_value = distance[facility][i]\n",
    "                min_index = i\n",
    "    \n",
    "    return min_index\n",
    "    \n",
    "    \n",
    "    \n",
    "\n",
    "def pMedianObjectiveFunction(permutation, distance, demand):\n",
    "    n = len(distance[0])\n",
    "    selected_facilities = []\n",
    "    \n",
    "    total = 0\n",
    "    #Loop over locations\n",
    "    for i in range(n):\n",
    "        #Indice de donde se alimenta la planta\n",
    "        min_index = selectFacility(i, n, permutation, distance)\n",
    "        \n",
    "        #Creamos una fila y guardamos la distancia\n",
    "        aux = [0] * n\n",
    "        aux[min_index] = 1\n",
    "        selected_facilities.append(aux)\n",
    "        \n",
    "        #Obtenemos el valor de la demanda * la distancia minima, lo agregamos al total\n",
    "        total += demand[i] * distance[i][min_index]\n",
    "        \n",
    "               \n",
    "    #print(total)\n",
    "    return total, selected_facilities"
   ]
  },
  {
   "cell_type": "code",
   "execution_count": 69,
   "metadata": {},
   "outputs": [],
   "source": [
    "def area_facility(n, index, selected_facilities, distance, demand):\n",
    "    area = []\n",
    "    \n",
    "    temp = [j[index] for j in selected_facilities]\n",
    "    for j in range(n):\n",
    "        if temp[j] == 1:\n",
    "            area.append(temp)\n",
    "        else:\n",
    "            area.append([0] * n)\n",
    "        \n",
    "    return area\n",
    "\n",
    "\n",
    "def calculate_cost(area, distance, demand):\n",
    "    n = len(area[0])\n",
    "    temp = [0] * n\n",
    "    for i in range(n):\n",
    "        for j in range(n):\n",
    "            temp[j] += area[i][j] * distance[i][j] * demand[i]\n",
    "        \n",
    "    \n",
    "    return temp\n",
    "\n",
    "def changeSelectedFacility(index, selected_facilities, new_cost):\n",
    "    temp = [j[index] for j in selected_facilities]\n",
    "    m = len(temp)\n",
    "    \n",
    "    lowest_cost_value = max(new_cost)\n",
    "    lowest_cost_index = -1\n",
    "    \n",
    "    for i in range(m):\n",
    "        if new_cost[i] != 0 and new_cost[i] < lowest_cost_value:\n",
    "            lowest_cost_value = new_cost[i]\n",
    "            lowest_cost_index = i\n",
    "    \n",
    "    return lowest_cost_value, lowest_cost_index"
   ]
  },
  {
   "cell_type": "markdown",
   "metadata": {},
   "source": [
    "### 5. Heurística de Maranzana"
   ]
  },
  {
   "cell_type": "code",
   "execution_count": 76,
   "metadata": {},
   "outputs": [],
   "source": [
    "def createInitialSolution(t, p, size):\n",
    "    if t == \"random\":\n",
    "        return randomInitialSolution(p, size)\n",
    "    else:\n",
    "        print(\"not implemented yet\")\n",
    "        return []\n",
    "\n",
    "\n",
    "\n",
    "def solveMaranzana(type_initial_solution, p, distance, demand):\n",
    "    #Create initial solution\n",
    "    \n",
    "    #solution = createInitialSolution(type_initial_solution, p, len(demand))\n",
    "    #Borrar, esto es por mientras\n",
    "    solution = type_initial_solution\n",
    "    \n",
    "    #Calculate of_value of initial solution\n",
    "    of_value, selected_facilities = pMedianObjectiveFunction(solution, distance, demand)\n",
    "    \n",
    "    #Chequear mejor solución para cada lugar seleccionado\n",
    "    m = len(solution)\n",
    "    is_changed = True\n",
    "\n",
    "    while is_changed is True:\n",
    "        solution_changed = False\n",
    "        new_solution = solution.copy()\n",
    "        for i in range(m):\n",
    "            if solution[i] == 1:\n",
    "                area = area_facility(m, i, selected_facilities, distance, demand)\n",
    "                new_cost = calculate_cost(area, distance, demand)\n",
    "                lowest_cost_value, lowest_cost_index = changeSelectedFacility(i, selected_facilities, new_cost)\n",
    "                \n",
    "                if i != lowest_cost_index and lowest_cost_index != -1:\n",
    "                    new_solution[i] = 0\n",
    "                    new_solution[lowest_cost_index] = 1\n",
    "                    solution_changed = True\n",
    "                \n",
    "        if solution_changed:\n",
    "            of_value, selected_facilities = pMedianObjectiveFunction(new_solution, distance, demand)\n",
    "            solution = new_solution\n",
    "        else:\n",
    "            is_changed = False\n",
    "    \n",
    "    return solution, of_value, selected_facilities"
   ]
  },
  {
   "cell_type": "code",
   "execution_count": 82,
   "metadata": {},
   "outputs": [
    {
     "name": "stdout",
     "output_type": "stream",
     "text": [
      "157\n",
      "[0, 1, 0, 0, 0, 1]\n",
      "0 1 0 0 0 0 \n",
      "0 1 0 0 0 0 \n",
      "0 1 0 0 0 0 \n",
      "0 0 0 0 0 1 \n",
      "0 0 0 0 0 1 \n",
      "0 0 0 0 0 1 \n"
     ]
    }
   ],
   "source": [
    "solution = [0,0,1,1,0,0]\n",
    "demand = [7,5,3,4,5,10]            \n",
    "\n",
    "sol, of_value, sf = solveMaranzana(solution, 2, distance, demand)\n",
    "print(of_value)\n",
    "print(sol)\n",
    "print_matrix(sf)"
   ]
  },
  {
   "cell_type": "code",
   "execution_count": null,
   "metadata": {},
   "outputs": [],
   "source": []
  }
 ],
 "metadata": {
  "kernelspec": {
   "display_name": "Python 3",
   "language": "python",
   "name": "python3"
  },
  "language_info": {
   "codemirror_mode": {
    "name": "ipython",
    "version": 3
   },
   "file_extension": ".py",
   "mimetype": "text/x-python",
   "name": "python",
   "nbconvert_exporter": "python",
   "pygments_lexer": "ipython3",
   "version": "3.8.2"
  }
 },
 "nbformat": 4,
 "nbformat_minor": 4
}
