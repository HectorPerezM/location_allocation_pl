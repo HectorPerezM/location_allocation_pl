{
 "cells": [
  {
   "cell_type": "markdown",
   "metadata": {},
   "source": [
    "# P-Median"
   ]
  },
  {
   "cell_type": "markdown",
   "metadata": {},
   "source": [
    "Explicar aqui un poco el contexto de p-median y quizas pegar su formula"
   ]
  },
  {
   "cell_type": "markdown",
   "metadata": {},
   "source": [
    "### 1. Libraries"
   ]
  },
  {
   "cell_type": "code",
   "execution_count": 96,
   "metadata": {},
   "outputs": [],
   "source": [
    "import numpy as np"
   ]
  },
  {
   "cell_type": "markdown",
   "metadata": {},
   "source": [
    "### 2. Configure project\n",
    "\n",
    "Explicar como se configura\n"
   ]
  },
  {
   "cell_type": "code",
   "execution_count": 117,
   "metadata": {},
   "outputs": [],
   "source": [
    "config = {\n",
    "    \"data_path\": \"data/OR-Library/pmed1.txt\",\n",
    "    \"type_initial_solution\": \"random\"\n",
    "}"
   ]
  },
  {
   "cell_type": "markdown",
   "metadata": {},
   "source": [
    "### 3. Open data file"
   ]
  },
  {
   "cell_type": "code",
   "execution_count": 24,
   "metadata": {},
   "outputs": [
    {
     "name": "stdout",
     "output_type": "stream",
     "text": [
      "<class 'int'>\n"
     ]
    }
   ],
   "source": [
    "def readORLibDataFile(data_path = \"\"):\n",
    "    if data_path == \"\":\n",
    "        print(\"Empty data path, change it in config step.\")\n",
    "        return []\n",
    "    \n",
    "    data = []\n",
    "    raw_data = open(data_path, \"r\")\n",
    "    for line in raw_data:\n",
    "        line = line.strip().split(\" \")\n",
    "        line = list(map(int, line))\n",
    "        data.append(line)\n",
    "        \n",
    "    return data\n",
    "        \n",
    "\n",
    "data = readORLibDataFile(config[\"data_path\"])"
   ]
  },
  {
   "cell_type": "markdown",
   "metadata": {},
   "source": [
    "### Initial Solutions"
   ]
  },
  {
   "cell_type": "code",
   "execution_count": 116,
   "metadata": {},
   "outputs": [
    {
     "name": "stdout",
     "output_type": "stream",
     "text": [
      "[1 0 0 0 1 0]\n"
     ]
    }
   ],
   "source": [
    "def randomInitialSolution(p, size):\n",
    "    x = np.zeros(size, dtype=int)\n",
    "    x[:p] = 1\n",
    "    np.random.shuffle(x)\n",
    "    return x\n",
    "      \n",
    "x = randomInitialSolution(2,6)\n",
    "print(x)"
   ]
  },
  {
   "cell_type": "markdown",
   "metadata": {},
   "source": [
    "### 4. P-Median Objective Function"
   ]
  },
  {
   "cell_type": "code",
   "execution_count": 166,
   "metadata": {},
   "outputs": [],
   "source": [
    "def selectedFacilities(facilitie, permutation, distance):\n",
    "    m = len(permutation)\n",
    "    \n",
    "    #Determinados la mayor distancia de la fila\n",
    "    min_value = max(distance[facilitie])\n",
    "    min_index = 0\n",
    "    \n",
    "    #Iteramos sobre la solucion entregada\n",
    "    for j in range(m):\n",
    "        #Si se localiza en este punto\n",
    "        if permutation[j] == 1:\n",
    "            #Si la distancia es menor al valor mínimo que ya teniamos, obtenemos su indice\n",
    "            if distance[facilitie][j] <= min_value:\n",
    "                min_value = distance[facilitie][j]\n",
    "                min_index = j\n",
    "    \n",
    "    \n",
    "    \n",
    "    return min_index\n",
    "    \n",
    "    \n",
    "    \n",
    "\n",
    "def pMedianObjectiveFunction(permutation, distance, demand):\n",
    "    n = len(distance)\n",
    "    selected_distance = []\n",
    "    \n",
    "    \n",
    "    total = 0\n",
    "    #Loop over locations\n",
    "    for i in range(n):\n",
    "        #Indice de donde se alimenta la planta\n",
    "        min_index = selectedFacilities(i, permutation, distance)\n",
    "        \n",
    "        #Creamos una fila y guardamos la distancia\n",
    "        aux = [0] * n\n",
    "        aux[min_index] = 1\n",
    "        selected_distance.append(aux)\n",
    "        \n",
    "        # Obtenemos el valor de la demanda * la distancia minima, lo agregamos al total\n",
    "        total += demand[i] * distance[i][min_index]\n",
    "        \n",
    "        #print(\"Para fila: {} - el menor valor es {}-{}\".format(i, min_value, min_index))\n",
    "               \n",
    "    #print(total)\n",
    "    return total, selected_distance"
   ]
  },
  {
   "cell_type": "code",
   "execution_count": 158,
   "metadata": {},
   "outputs": [
    {
     "name": "stdout",
     "output_type": "stream",
     "text": [
      "[[0, 0, 0, 1, 0, 0], [0, 0, 1, 0, 0, 0], [0, 0, 1, 0, 0, 0], [0, 0, 0, 1, 0, 0], [0, 0, 0, 1, 0, 0], [0, 0, 0, 1, 0, 0]]\n"
     ]
    }
   ],
   "source": [
    "matriz_distancia = [[0,10,16,10,12,16],\n",
    "                    [10,0,6,7,16,13],\n",
    "                    [16,6,0,7,16,9],\n",
    "                    [10,7,7,0,9,6],\n",
    "                    [12,16,16,9,0,9],\n",
    "                    [16,13,9,6,9,0]]\n",
    "\n",
    "demanda = [7,5,3,4,5,10]\n",
    "\n",
    "solucion = [0,0,1,1,0,0]\n",
    "\n",
    "\n",
    "of_value, sf = pMedianObjectiveFunction(solucion, matriz_distancia, demanda)\n",
    "print(sf)"
   ]
  },
  {
   "cell_type": "markdown",
   "metadata": {},
   "source": [
    "### 5. Heurística de Maranzana"
   ]
  },
  {
   "cell_type": "code",
   "execution_count": 167,
   "metadata": {},
   "outputs": [
    {
     "name": "stdout",
     "output_type": "stream",
     "text": [
      "(0,0)\n",
      "(1,0)\n",
      "(2,1)\n",
      "6\n",
      "0\n",
      "(3,1)\n",
      "10\n",
      "0\n",
      "9\n",
      "6\n",
      "(4,0)\n",
      "(5,0)\n"
     ]
    }
   ],
   "source": [
    "def createInitialSolution(t, p, size):\n",
    "    if t == \"random\":\n",
    "        return randomInitialSolution(p, size)\n",
    "    else:\n",
    "        print(\"not implemented yet\")\n",
    "        return []\n",
    "\n",
    "\n",
    "\n",
    "def solveMaranzana(type_initial_solution, p, distance, demand):\n",
    "    #Create initial solution\n",
    "    #solution = createInitialSolution(type_initial_solution, p, len(demand))\n",
    "    solution = type_initial_solution\n",
    "    \n",
    "    #Calculate of_value of initial solution\n",
    "    of_value, selected_distances = pMedianObjectiveFunction(solution, distance, demand)\n",
    "    \n",
    "    #Chequear mejor solución para cada lugar seleccionado\n",
    "    m = len(solution)\n",
    "    for i in range(m):\n",
    "        print(\"({},{})\".format(i, solution[i]))\n",
    "        if solution[i] == 1:\n",
    "            for j in range(m):\n",
    "                if selected_distances[j][i] == 1:\n",
    "                    \n",
    "                    \n",
    "                    print(distance[i][j])\n",
    "                    \n",
    "                \n",
    "            \n",
    "\n",
    "solveMaranzana(solucion, 2, matriz_distancia, demanda)"
   ]
  },
  {
   "cell_type": "code",
   "execution_count": null,
   "metadata": {},
   "outputs": [],
   "source": []
  }
 ],
 "metadata": {
  "kernelspec": {
   "display_name": "Python 3",
   "language": "python",
   "name": "python3"
  },
  "language_info": {
   "codemirror_mode": {
    "name": "ipython",
    "version": 3
   },
   "file_extension": ".py",
   "mimetype": "text/x-python",
   "name": "python",
   "nbconvert_exporter": "python",
   "pygments_lexer": "ipython3",
   "version": "3.8.2"
  }
 },
 "nbformat": 4,
 "nbformat_minor": 4
}
